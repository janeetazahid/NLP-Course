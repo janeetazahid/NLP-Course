{
 "cells": [
  {
   "cell_type": "markdown",
   "metadata": {},
   "source": [
    "## Topic Modeling Assessment "
   ]
  },
  {
   "cell_type": "code",
   "execution_count": 2,
   "metadata": {},
   "outputs": [],
   "source": [
    "import numpy as np \n",
    "import pandas as pd"
   ]
  },
  {
   "cell_type": "code",
   "execution_count": 5,
   "metadata": {},
   "outputs": [],
   "source": [
    "df=pd.read_csv('quora_questions.csv')"
   ]
  },
  {
   "cell_type": "code",
   "execution_count": 6,
   "metadata": {},
   "outputs": [
    {
     "data": {
      "text/html": [
       "<div>\n",
       "<style scoped>\n",
       "    .dataframe tbody tr th:only-of-type {\n",
       "        vertical-align: middle;\n",
       "    }\n",
       "\n",
       "    .dataframe tbody tr th {\n",
       "        vertical-align: top;\n",
       "    }\n",
       "\n",
       "    .dataframe thead th {\n",
       "        text-align: right;\n",
       "    }\n",
       "</style>\n",
       "<table border=\"1\" class=\"dataframe\">\n",
       "  <thead>\n",
       "    <tr style=\"text-align: right;\">\n",
       "      <th></th>\n",
       "      <th>Question</th>\n",
       "    </tr>\n",
       "  </thead>\n",
       "  <tbody>\n",
       "    <tr>\n",
       "      <th>0</th>\n",
       "      <td>What is the step by step guide to invest in sh...</td>\n",
       "    </tr>\n",
       "    <tr>\n",
       "      <th>1</th>\n",
       "      <td>What is the story of Kohinoor (Koh-i-Noor) Dia...</td>\n",
       "    </tr>\n",
       "    <tr>\n",
       "      <th>2</th>\n",
       "      <td>How can I increase the speed of my internet co...</td>\n",
       "    </tr>\n",
       "    <tr>\n",
       "      <th>3</th>\n",
       "      <td>Why am I mentally very lonely? How can I solve...</td>\n",
       "    </tr>\n",
       "    <tr>\n",
       "      <th>4</th>\n",
       "      <td>Which one dissolve in water quikly sugar, salt...</td>\n",
       "    </tr>\n",
       "  </tbody>\n",
       "</table>\n",
       "</div>"
      ],
      "text/plain": [
       "                                            Question\n",
       "0  What is the step by step guide to invest in sh...\n",
       "1  What is the story of Kohinoor (Koh-i-Noor) Dia...\n",
       "2  How can I increase the speed of my internet co...\n",
       "3  Why am I mentally very lonely? How can I solve...\n",
       "4  Which one dissolve in water quikly sugar, salt..."
      ]
     },
     "execution_count": 6,
     "metadata": {},
     "output_type": "execute_result"
    }
   ],
   "source": [
    "df.head()"
   ]
  },
  {
   "cell_type": "code",
   "execution_count": 8,
   "metadata": {},
   "outputs": [],
   "source": [
    "#import TfidfVectorizer\n",
    "from sklearn.feature_extraction.text import TfidfVectorizer"
   ]
  },
  {
   "cell_type": "code",
   "execution_count": 10,
   "metadata": {},
   "outputs": [],
   "source": [
    "#create an instance of the Tfidfvectorizer\n",
    "tfidf=TfidfVectorizer(max_df=0.95,min_df=3)"
   ]
  },
  {
   "cell_type": "code",
   "execution_count": 14,
   "metadata": {},
   "outputs": [],
   "source": [
    "#transform the data\n",
    "dtm=tfidf.fit_transform(df['Question'])"
   ]
  },
  {
   "cell_type": "code",
   "execution_count": 15,
   "metadata": {},
   "outputs": [
    {
     "data": {
      "text/plain": [
       "<404289x30214 sparse matrix of type '<class 'numpy.float64'>'\n",
       "\twith 3984548 stored elements in Compressed Sparse Row format>"
      ]
     },
     "execution_count": 15,
     "metadata": {},
     "output_type": "execute_result"
    }
   ],
   "source": [
    "dtm"
   ]
  },
  {
   "cell_type": "code",
   "execution_count": 16,
   "metadata": {},
   "outputs": [],
   "source": [
    "from sklearn.decomposition import NMF"
   ]
  },
  {
   "cell_type": "code",
   "execution_count": 17,
   "metadata": {},
   "outputs": [],
   "source": [
    "nmf_model=NMF(n_components=20,random_state=42)"
   ]
  },
  {
   "cell_type": "code",
   "execution_count": 18,
   "metadata": {},
   "outputs": [
    {
     "data": {
      "text/plain": [
       "NMF(alpha=0.0, beta_loss='frobenius', init=None, l1_ratio=0.0, max_iter=200,\n",
       "  n_components=20, random_state=42, shuffle=False, solver='cd', tol=0.0001,\n",
       "  verbose=0)"
      ]
     },
     "execution_count": 18,
     "metadata": {},
     "output_type": "execute_result"
    }
   ],
   "source": [
    "nmf_model.fit(dtm)"
   ]
  },
  {
   "cell_type": "code",
   "execution_count": 22,
   "metadata": {},
   "outputs": [
    {
     "name": "stdout",
     "output_type": "stream",
     "text": [
      "The top 5 words for topic #0\n",
      "['battle', 'effects', 'indian', 'time', 'think', 'purpose', 'life', 'all', 'was', 'world', 'most', 'what', 'meaning', 'the', 'of']\n",
      "\n",
      "\n",
      "The top 5 words for topic #1\n",
      "['they', 'work', 'weight', 'know', 'an', 'stop', 'find', 'from', 'start', 'think', 'with', 'become', 'people', 'how', 'do']\n",
      "\n",
      "\n",
      "The top 5 words for topic #2\n",
      "['they', 'people', 'facts', 'most', 'movies', 'books', 'things', 'about', 'that', 'ways', 'good', 'examples', 'some', 'what', 'are']\n",
      "\n",
      "\n",
      "The top 5 words for topic #3\n",
      "['did', 've', 'about', 'love', 'someone', 'know', 'thing', 'that', 'when', 'think', 'would', 'ever', 'if', 'have', 'you']\n",
      "\n",
      "\n",
      "The top 5 words for topic #4\n",
      "['an', 'need', 'have', 'from', 'time', 'take', 'ways', 'want', 'possible', 'be', 'like', 'learn', 'way', 'it', 'to']\n",
      "\n",
      "\n",
      "The top 5 words for topic #5\n",
      "['2016', 'movie', 'books', 'laptop', 'language', 'programming', 'movies', 'ever', 'learn', 'book', 'under', 'way', 'which', 'the', 'best']\n",
      "\n",
      "\n",
      "The top 5 words for topic #6\n",
      "['or', 'hate', 'than', 'have', 'is', 'many', 'and', 'don', 'did', 'do', 'we', 'not', 'so', 'people', 'why']\n",
      "\n",
      "\n",
      "The top 5 words for topic #7\n",
      "['without', 'an', 'with', 'lose', 'weight', 'become', 'from', 'be', 'one', 'learn', 'find', 'where', 'we', 'how', 'can']\n",
      "\n",
      "\n",
      "The top 5 words for topic #8\n",
      "['most', 'meaning', 'better', 'way', 'the', 'like', 'that', 'com', 'thing', 'an', 'there', 'or', 'it', 'what', 'is']\n",
      "\n",
      "\n",
      "The top 5 words for topic #9\n",
      "['places', 'any', 'live', 'many', 'job', 'most', 'which', 'where', 'life', 'engineering', 'world', 'there', 'the', 'india', 'in']\n",
      "\n",
      "\n",
      "The top 5 words for topic #10\n",
      "['banning', 'war', 'compare', 'black', 'rs', 'rupee', '1000', 'notes', '500', 'differences', 'what', 'the', 'difference', 'between', 'and']\n",
      "\n",
      "\n",
      "The top 5 words for topic #11\n",
      "['an', 'take', 'one', 'when', 'long', 'much', 'have', 'what', 'how', 'feel', 'work', 'like', 'it', 'mean', 'does']\n",
      "\n",
      "\n",
      "The top 5 words for topic #12\n",
      "['apply', 'gate', 'books', 'book', 'preparation', 'new', 'engineering', 'free', 'exam', 'an', 'year', '2017', 'good', 'prepare', 'for']\n",
      "\n",
      "\n",
      "The top 5 words for topic #13\n",
      "['by', 'delete', 'many', 'instagram', 'people', 'there', 'asked', 'google', 'answer', 'answers', 'ask', 'question', 'questions', 'quora', 'on']\n",
      "\n",
      "\n",
      "The top 5 words for topic #14\n",
      "['am', 'girlfriend', 'speaking', 'phone', 'writing', 'increase', 'gmail', 'if', 'password', 'me', 'account', 'skills', 'english', 'improve', 'my']\n",
      "\n",
      "\n",
      "The top 5 words for topic #15\n",
      "['easy', 'much', 'how', 'youtube', 'ways', 'black', 'way', 'from', 'notes', '1000', '500', 'earn', 'online', 'make', 'money']\n",
      "\n",
      "\n",
      "The top 5 words for topic #16\n",
      "['resolutions', 'most', 'movie', 'moment', 'resolution', 'favourite', 'new', '2017', 'review', 'year', 'was', 'what', 'favorite', 'life', 'your']\n",
      "\n",
      "\n",
      "The top 5 words for topic #17\n",
      "['period', 'after', 'back', 'more', 'sydney', 'free', 'acne', 'at', 'over', 'pregnant', 'into', 'job', 'where', 'rid', 'get']\n",
      "\n",
      "\n",
      "The top 5 words for topic #18\n",
      "['us', 'happen', 'election', 'hillary', 'or', 'president', 'clinton', 'win', 'would', 'if', 'donald', 'who', 'trump', 'be', 'will']\n",
      "\n",
      "\n",
      "The top 5 words for topic #19\n",
      "['or', 'start', 'one', 'what', 'their', 'employees', 'going', 'into', 'new', 'things', 'day', 'at', 'first', 'know', 'should']\n",
      "\n",
      "\n"
     ]
    }
   ],
   "source": [
    "#get top 15 words for all topics\n",
    "for index,topic in enumerate(nmf_model.components_):\n",
    "    print(f\"The top 5 words for topic #{index}\")\n",
    "    print([tfidf.get_feature_names()[i] for i in topic.argsort()[-15:]])\n",
    "    print('\\n')"
   ]
  },
  {
   "cell_type": "code",
   "execution_count": 23,
   "metadata": {},
   "outputs": [],
   "source": [
    "topic_results=nmf_model.transform(dtm)"
   ]
  },
  {
   "cell_type": "code",
   "execution_count": 24,
   "metadata": {},
   "outputs": [],
   "source": [
    "df['topic']=topic_results.argmax(axis=1)"
   ]
  },
  {
   "cell_type": "code",
   "execution_count": 26,
   "metadata": {},
   "outputs": [
    {
     "data": {
      "text/html": [
       "<div>\n",
       "<style scoped>\n",
       "    .dataframe tbody tr th:only-of-type {\n",
       "        vertical-align: middle;\n",
       "    }\n",
       "\n",
       "    .dataframe tbody tr th {\n",
       "        vertical-align: top;\n",
       "    }\n",
       "\n",
       "    .dataframe thead th {\n",
       "        text-align: right;\n",
       "    }\n",
       "</style>\n",
       "<table border=\"1\" class=\"dataframe\">\n",
       "  <thead>\n",
       "    <tr style=\"text-align: right;\">\n",
       "      <th></th>\n",
       "      <th>Question</th>\n",
       "      <th>topic</th>\n",
       "    </tr>\n",
       "  </thead>\n",
       "  <tbody>\n",
       "    <tr>\n",
       "      <th>0</th>\n",
       "      <td>What is the step by step guide to invest in sh...</td>\n",
       "      <td>9</td>\n",
       "    </tr>\n",
       "    <tr>\n",
       "      <th>1</th>\n",
       "      <td>What is the story of Kohinoor (Koh-i-Noor) Dia...</td>\n",
       "      <td>0</td>\n",
       "    </tr>\n",
       "    <tr>\n",
       "      <th>2</th>\n",
       "      <td>How can I increase the speed of my internet co...</td>\n",
       "      <td>14</td>\n",
       "    </tr>\n",
       "    <tr>\n",
       "      <th>3</th>\n",
       "      <td>Why am I mentally very lonely? How can I solve...</td>\n",
       "      <td>7</td>\n",
       "    </tr>\n",
       "    <tr>\n",
       "      <th>4</th>\n",
       "      <td>Which one dissolve in water quikly sugar, salt...</td>\n",
       "      <td>9</td>\n",
       "    </tr>\n",
       "  </tbody>\n",
       "</table>\n",
       "</div>"
      ],
      "text/plain": [
       "                                            Question  topic\n",
       "0  What is the step by step guide to invest in sh...      9\n",
       "1  What is the story of Kohinoor (Koh-i-Noor) Dia...      0\n",
       "2  How can I increase the speed of my internet co...     14\n",
       "3  Why am I mentally very lonely? How can I solve...      7\n",
       "4  Which one dissolve in water quikly sugar, salt...      9"
      ]
     },
     "execution_count": 26,
     "metadata": {},
     "output_type": "execute_result"
    }
   ],
   "source": [
    "df.head()"
   ]
  },
  {
   "cell_type": "code",
   "execution_count": null,
   "metadata": {},
   "outputs": [],
   "source": []
  }
 ],
 "metadata": {
  "kernelspec": {
   "display_name": "Python 3",
   "language": "python",
   "name": "python3"
  },
  "language_info": {
   "codemirror_mode": {
    "name": "ipython",
    "version": 3
   },
   "file_extension": ".py",
   "mimetype": "text/x-python",
   "name": "python",
   "nbconvert_exporter": "python",
   "pygments_lexer": "ipython3",
   "version": "3.7.5"
  }
 },
 "nbformat": 4,
 "nbformat_minor": 2
}
